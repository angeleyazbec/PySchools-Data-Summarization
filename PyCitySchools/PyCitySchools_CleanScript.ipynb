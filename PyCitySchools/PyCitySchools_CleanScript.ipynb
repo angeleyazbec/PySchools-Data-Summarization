{
 "cells": [
  {
   "cell_type": "markdown",
   "id": "a1b6b10c",
   "metadata": {},
   "source": [
    "## Importing Dependencies and Merging the Main Dataframe"
   ]
  },
  {
   "cell_type": "code",
   "execution_count": null,
   "id": "acc9b904",
   "metadata": {},
   "outputs": [],
   "source": [
    "# Dependencies and Setup\n",
    "import pandas as pd\n",
    "\n",
    "# File to Load (Remember to Change These)\n",
    "school_data = \"Resources/schools_complete.csv\"\n",
    "student_data = \"Resources/students_complete.csv\"\n",
    "\n",
    "# Read School and Student Data File and store into Pandas DataFrames\n",
    "school_df = pd.read_csv(school_data)\n",
    "student_df = pd.read_csv(student_data)\n",
    "\n",
    "# Combine the data into a single dataset.  \n",
    "complete_school_df = pd.merge(student_df, school_df, how=\"left\", on=[\"school_name\", \"school_name\"])\n",
    "\n",
    "#view dataset\n",
    "#complete_school_df.head()"
   ]
  },
  {
   "cell_type": "markdown",
   "id": "5e70cdcc",
   "metadata": {},
   "source": [
    "## District Performance Analysis"
   ]
  },
  {
   "cell_type": "code",
   "execution_count": null,
   "id": "e6eae0ea",
   "metadata": {},
   "outputs": [],
   "source": [
    "#checking for any missing data\n",
    "#complete_school_df.count()"
   ]
  },
  {
   "cell_type": "code",
   "execution_count": null,
   "id": "eef8fbed",
   "metadata": {},
   "outputs": [],
   "source": [
    "#creating bins for reading scores\n",
    "reading_bins = [0, 69, 100]\n",
    "\n",
    "# Create the names for the pass/fail reading scores\n",
    "reading_pass = [\"Fail\", \"Pass\"]\n",
    "\n",
    "#add to dataframe\n",
    "complete_school_df[\"Reading Pass/Fail\"] = pd.cut(complete_school_df[\"reading_score\"], \n",
    "                                              bins= reading_bins, labels=reading_pass, include_lowest=True)\n",
    "math_bins = [0, 69, 100]\n",
    "\n",
    "# Create the names for the pass/fail math scores\n",
    "math_pass = [\"Fail\", \"Pass\"]\n",
    "\n",
    "#add to dataframe\n",
    "complete_school_df[\"Math Pass/Fail\"] = pd.cut(complete_school_df[\"math_score\"], \n",
    "                                              bins= math_bins, labels=math_pass, include_lowest=True)\n",
    "\n",
    "#view modified dataframe\n",
    "#complete_school_df"
   ]
  },
  {
   "cell_type": "code",
   "execution_count": null,
   "id": "bc378294",
   "metadata": {},
   "outputs": [],
   "source": [
    "#counting the number of schools\n",
    "school_count = len(complete_school_df[\"school_name\"].unique())\n",
    "\n",
    "#view computed variable\n",
    "#school_count\n"
   ]
  },
  {
   "cell_type": "code",
   "execution_count": null,
   "id": "1f43ed16",
   "metadata": {},
   "outputs": [],
   "source": [
    "#counting the number of students\n",
    "number_students = complete_school_df[\"Student ID\"].count()\n",
    "#print(number_students)\n",
    "\n",
    "#summing the budget\n",
    "budget = sum(complete_school_df[\"budget\"].unique())\n",
    "#print(budget)\n",
    "\n",
    "#computing average math scores\n",
    "avg_math = round(complete_school_df[\"math_score\"].mean(),2)\n",
    "#print(avg_math)\n",
    "\n",
    "#computing average reading scores\n",
    "avg_reading = round(complete_school_df[\"reading_score\"].mean(),2)\n",
    "#print(avg_reading)"
   ]
  },
  {
   "cell_type": "code",
   "execution_count": null,
   "id": "c52e45ba",
   "metadata": {},
   "outputs": [],
   "source": [
    "#determining the number of students who passed math\n",
    "pass_math = sum(complete_school_df[\"math_score\"] >= 70)\n",
    "\n",
    "#determining the number of students who passed reading\n",
    "pass_reading = sum(complete_school_df[\"reading_score\"] >= 70)"
   ]
  },
  {
   "cell_type": "code",
   "execution_count": null,
   "id": "0181cd9c",
   "metadata": {},
   "outputs": [],
   "source": [
    "#percentages for passing math, reading, and overall (both math and reading)\n",
    "perc_pass_math = round((pass_math/number_students)*100,2)\n",
    "\n",
    "perc_pass_reading = round((pass_reading/number_students)*100,2)\n",
    "\n",
    "overall_percent = round(((perc_pass_math + perc_pass_reading)/2),2)\n",
    "\n",
    "#view variable\n",
    "#overall_percent\n"
   ]
  },
  {
   "cell_type": "code",
   "execution_count": null,
   "id": "8fa36613",
   "metadata": {},
   "outputs": [],
   "source": [
    "#obtaining the column names for the dataframe\n",
    "#complete_school_df.columns"
   ]
  },
  {
   "cell_type": "code",
   "execution_count": null,
   "id": "e7c155fb",
   "metadata": {},
   "outputs": [],
   "source": [
    "#Creating and Printing the District Summary Table\n",
    "district_summary_df = pd.DataFrame({\"Total Schools\": [school_count],\n",
    "                              \"Total Students\": [number_students],\n",
    "                                    \"Total Budget\" : budget,\n",
    "                              \"Average Math Score\": avg_math,\n",
    "                              \"Average Reading Score\": avg_reading,\n",
    "                                   \"% Passing Math\" : perc_pass_math,\n",
    "                                   \"% Passing Reading\" : perc_pass_reading,\n",
    "                                   \"% Overall Passing\" : overall_percent})\n",
    "\n",
    "#view summary table before formatting is applied\n",
    "#district_summary_df"
   ]
  },
  {
   "cell_type": "markdown",
   "id": "0e61bf88",
   "metadata": {},
   "source": [
    "## District Summary Table"
   ]
  },
  {
   "cell_type": "code",
   "execution_count": null,
   "id": "93791154",
   "metadata": {},
   "outputs": [],
   "source": [
    "#applying formatting using the mapping function\n",
    "\n",
    "district_summary_df[\"Total Budget\"] = district_summary_df[\"Total Budget\"].astype(float).map(\"${:,.2f}\".format)\n",
    "district_summary_df[\"% Passing Math\"] = district_summary_df[\"% Passing Math\"].astype(float).map(\"{:,.2f}%\".format)\n",
    "district_summary_df[\"% Passing Reading\"] = district_summary_df[\"% Passing Reading\"].astype(float).map(\"{:,.2f}%\".format)\n",
    "district_summary_df[\"% Overall Passing\"] = district_summary_df[\"% Overall Passing\"].astype(float).map(\"{:,.2f}%\".format)\n",
    "\n",
    "district_summary_df"
   ]
  },
  {
   "cell_type": "markdown",
   "id": "b0cfff0a",
   "metadata": {},
   "source": [
    "## School Performance Analysis"
   ]
  },
  {
   "cell_type": "code",
   "execution_count": null,
   "id": "805f85de",
   "metadata": {},
   "outputs": [],
   "source": [
    "grouped_school_df = complete_school_df.loc[:, [\"school_name\", \"type\", \"Student ID\", \"budget\", \"math_score\", \"reading_score\", \n",
    "                                    \"Math Pass/Fail\", \"Reading Pass/Fail\"]]\n",
    "#view new dataframe\n",
    "#grouped_school_df.head()"
   ]
  },
  {
   "cell_type": "code",
   "execution_count": null,
   "id": "a8425821",
   "metadata": {},
   "outputs": [],
   "source": [
    "#criteria for passing\n",
    "passing_math= grouped_school_df[\"math_score\"] >= 70\n",
    "passing_reading = grouped_school_df[\"reading_score\"] >= 70\n",
    "overall_pass = (passing_math & passing_reading)\n",
    "\n",
    "#adding passing rates to grouped school dataframe\n",
    "grouped_school_df[\"% Passing Math\"] = round(passing_math*100,2)\n",
    "grouped_school_df[\"% Passing Reading\"] = round(passing_reading*100,2)\n",
    "grouped_school_df[\"% Overall Passing\"] = round(overall_pass*100,2)\n",
    "\n",
    "#view updated dataframe\n",
    "#grouped_school_df"
   ]
  },
  {
   "cell_type": "code",
   "execution_count": null,
   "id": "ada8d2a0",
   "metadata": {},
   "outputs": [],
   "source": [
    "#determining school budget\n",
    "school_budget = grouped_school_df.groupby([\"school_name\"])[\"budget\"].mean()\n",
    "#print(school_budget)\n",
    "\n",
    "#determining number of students\n",
    "school_students = grouped_school_df.groupby([\"school_name\"])[\"Student ID\"].count()\n",
    "#print(school_students)"
   ]
  },
  {
   "cell_type": "code",
   "execution_count": null,
   "id": "bc9fd5ca",
   "metadata": {},
   "outputs": [],
   "source": [
    "#budget per student\n",
    "budget_per_student = school_budget / school_students\n",
    "\n",
    "#view variable\n",
    "#budget_per_student"
   ]
  },
  {
   "cell_type": "code",
   "execution_count": null,
   "id": "b1202dfd",
   "metadata": {},
   "outputs": [],
   "source": [
    "#creating budget sub dataframe\n",
    "budget_sub_df = pd.DataFrame({\"Per Student Budget\" : budget_per_student})\n",
    "\n",
    "#view dataframe\n",
    "#budget_sub_df"
   ]
  },
  {
   "cell_type": "code",
   "execution_count": null,
   "id": "2b4a330f",
   "metadata": {},
   "outputs": [],
   "source": [
    "#merge budget sub datadrame with the grouped school dataframe\n",
    "grouped_school_df2 = pd.merge(grouped_school_df, budget_sub_df, how=\"left\", on=[\"school_name\", \"school_name\"])\n",
    "\n",
    "#view dataframe\n",
    "#grouped_school_df2.head()"
   ]
  },
  {
   "cell_type": "code",
   "execution_count": null,
   "id": "f9f6a200",
   "metadata": {},
   "outputs": [],
   "source": [
    "#renaming columns\n",
    "grouped_school_df3= grouped_school_df2.rename(columns=\n",
    "                                              {\"school_name\" : \"School Name\",\n",
    "                                               \"type\" : \"School Type\",\n",
    "                                               \"Student ID\" : \"Total Students\", \n",
    "                                               \"budget\" : \"School Budget\",\n",
    "                                               \"Per Student Budget\" : \"Per Student Budget\",\n",
    "                                               \"math_score\" : \"Average Math Score\", \n",
    "                                               \"reading_score\": \"Average Reading Score\", \n",
    "                                              \"% Passing Math\" : \"% Passing Math\",\n",
    "                                              \"% Passing Reading\" : \"% Passing Reading\",\n",
    "                                              \"% Overall Passing\" : \"% Overall Passing\"})\n",
    "\n",
    "#view datafame\n",
    "#grouped_school_df3.head()"
   ]
  },
  {
   "cell_type": "code",
   "execution_count": null,
   "id": "dab32cef",
   "metadata": {},
   "outputs": [],
   "source": [
    "#grouping by schools to create a dataframe with average values\n",
    "school_summary_df = grouped_school_df3.groupby([\"School Name\"])\n",
    "\n",
    "school_summary_df2= school_summary_df[[\"School Budget\", \"Per Student Budget\", \n",
    "                                      \"Average Math Score\", \"Average Reading Score\",\n",
    "                                       \"% Passing Math\", \"% Passing Reading\",\n",
    "                                       \"% Overall Passing\"]].mean()\n",
    "\n",
    "#view dataframe\n",
    "#school_summary_df2"
   ]
  },
  {
   "cell_type": "code",
   "execution_count": null,
   "id": "e5616267",
   "metadata": {},
   "outputs": [],
   "source": [
    "#grouping by schools to create a dataframe for the total number of students\n",
    "school_summary_df = grouped_school_df3.groupby([\"School Name\"])\n",
    "\n",
    "school_summary_df3 = pd.DataFrame(school_summary_df['Total Students'].count())\n",
    "\n",
    "#view dataframe\n",
    "#school_summary_df3"
   ]
  },
  {
   "cell_type": "code",
   "execution_count": null,
   "id": "6d0e4590",
   "metadata": {},
   "outputs": [],
   "source": [
    "#merging the two dataframes to create an aggregated dataframe\n",
    "agg_school_summary = pd.merge(school_summary_df2, school_summary_df3, how=\"left\", left_index=True, right_index=True)\n",
    "\n",
    "#view dataframe\n",
    "#agg_school_summary.head(15)"
   ]
  },
  {
   "cell_type": "code",
   "execution_count": null,
   "id": "83bf6174",
   "metadata": {},
   "outputs": [],
   "source": [
    "#obtaining information about school type\n",
    "school_df2 = school_df.groupby([\"school_name\"])\n",
    "\n",
    "#view the school names\n",
    "#school_df2[\"type\"].unique()"
   ]
  },
  {
   "cell_type": "code",
   "execution_count": null,
   "id": "128ae15a",
   "metadata": {},
   "outputs": [],
   "source": [
    "#creating a dataframe with only school name and school type\n",
    "name_type_df = pd.DataFrame({\n",
    "    \"School Name\": [\"Bailey High School\", \"Cabrera High School\", \"Figueroa High School\", \"Ford High School\", \"Griffin High School\",\n",
    "                    \"Hernandez High School\", \"Holden High School\", \"Huang High School\", \"Johnson High School\", \"Pena High School\",\n",
    "                   \"Rodriguez High School\", \"Shelton High School\", \"Thomas High School\", \"Wilson High School\", \"Wright High School\"],\n",
    "    \"School Type\": [\"District\", \"Charter\", \"District\", \"District\", \"Charter\", \n",
    "                    \"District\", \"Charter\", \"District\", \"District\", \"Charter\",\n",
    "                   \"District\", \"Charter\", \"Charter\", \"Charter\", \"Charter\"]\n",
    "})\n",
    "\n",
    "#view dataframe\n",
    "#name_type_df"
   ]
  },
  {
   "cell_type": "code",
   "execution_count": null,
   "id": "645b31a5",
   "metadata": {},
   "outputs": [],
   "source": [
    "#merging with aggregated dataframe\n",
    "agg_school_summary2 = pd.merge(agg_school_summary, name_type_df, how=\"left\", on=[\"School Name\", \"School Name\"])\n",
    "\n",
    "#view updated dataframe\n",
    "#agg_school_summary2.head(15)"
   ]
  },
  {
   "cell_type": "code",
   "execution_count": null,
   "id": "31f45026",
   "metadata": {},
   "outputs": [],
   "source": [
    "#saving this table in a separate dataframe\n",
    "#this way, we can apply formatting to this new dataframe while leaving the other one alone for computational purposes\n",
    "agg_school_summary_3 = agg_school_summary2\n",
    "\n",
    "#view dataframe before formatting is applied\n",
    "#agg_school_summary_3"
   ]
  },
  {
   "cell_type": "markdown",
   "id": "01973dcb",
   "metadata": {},
   "source": [
    "## School Performance Summary"
   ]
  },
  {
   "cell_type": "code",
   "execution_count": null,
   "id": "9397744c",
   "metadata": {},
   "outputs": [],
   "source": [
    "#applying formatting using the mapping function\n",
    "\n",
    "agg_school_summary_3[\"School Budget\"] = agg_school_summary_3[\"School Budget\"].astype(float).map(\"${:,.2f}\".format)\n",
    "agg_school_summary_3[\"Per Student Budget\"] = agg_school_summary_3[\"Per Student Budget\"].astype(float).map(\"${:,.2f}\".format)\n",
    "agg_school_summary_3[\"Average Math Score\"] = agg_school_summary_3[\"Average Math Score\"].astype(float).map(\"{:,.2f}\".format)\n",
    "agg_school_summary_3[\"Average Reading Score\"] = agg_school_summary_3[\"Average Reading Score\"].astype(float).map(\"{:,.2f}\".format)\n",
    "agg_school_summary_3[\"% Passing Math\"] = agg_school_summary_3[\"% Passing Math\"].astype(float).map(\"{:,.2f}%\".format)\n",
    "agg_school_summary_3[\"% Passing Reading\"] = agg_school_summary_3[\"% Passing Reading\"].astype(float).map(\"{:,.2f}%\".format)\n",
    "agg_school_summary_3[\"% Overall Passing\"] = agg_school_summary_3[\"% Overall Passing\"].astype(float).map(\"{:,.2f}%\".format)\n",
    "\n",
    "agg_school_summary_3"
   ]
  },
  {
   "cell_type": "markdown",
   "id": "ce2f4581",
   "metadata": {},
   "source": [
    "## Top Performing Schools Analysis & Summary"
   ]
  },
  {
   "cell_type": "code",
   "execution_count": null,
   "id": "06424b24",
   "metadata": {},
   "outputs": [],
   "source": [
    "# sorting % Overall Passing in descending order to determine the top five performing schools\n",
    "performance = agg_school_summary2.sort_values([\"% Overall Passing\"], ascending = False)\n",
    "\n",
    "top_five_df = performance.head(5)\n",
    "\n",
    "#view dataframe\n",
    "top_five_df"
   ]
  },
  {
   "cell_type": "markdown",
   "id": "39e5a8d6",
   "metadata": {},
   "source": [
    "## Bottom Performing Schools Analysis & Summary"
   ]
  },
  {
   "cell_type": "code",
   "execution_count": null,
   "id": "0ba2a828",
   "metadata": {},
   "outputs": [],
   "source": [
    "# sorting % Overall Passing in descending order to determine the top five performing schools\n",
    "performance2 = agg_school_summary2.sort_values([\"% Overall Passing\"], ascending = True)\n",
    "\n",
    "bottom_five_df = performance2.head(5)\n",
    "\n",
    "#view dataframe\n",
    "bottom_five_df\n"
   ]
  },
  {
   "cell_type": "markdown",
   "id": "91376710",
   "metadata": {},
   "source": [
    "## Math Scores By Grade Analysis"
   ]
  },
  {
   "cell_type": "code",
   "execution_count": null,
   "id": "bdf9b2ed",
   "metadata": {},
   "outputs": [],
   "source": [
    "#creating math dataframe\n",
    "grade_math_df = complete_school_df.loc[:, [\"grade\", \"math_score\"]]\n",
    "\n",
    "#view dataframe\n",
    "grade_math_df.head()"
   ]
  },
  {
   "cell_type": "code",
   "execution_count": null,
   "id": "e17120cc",
   "metadata": {},
   "outputs": [],
   "source": [
    "#group math scores by grade\n",
    "grade_math_df2 = grade_math_df.groupby([\"grade\"])\n",
    "\n",
    "grade_math_df3 = round(grade_math_df2.mean(),2)\n",
    "\n",
    "#view dataframe\n",
    "grade_math_df3"
   ]
  },
  {
   "cell_type": "markdown",
   "id": "5f9e7373",
   "metadata": {},
   "source": [
    "## Math Scores By Grade Summary"
   ]
  },
  {
   "cell_type": "code",
   "execution_count": null,
   "id": "59eb01bd",
   "metadata": {},
   "outputs": [],
   "source": [
    "math_summary_df= grade_math_df3.rename(columns=\n",
    "                                              {\"grade\" : \"Grade\",\n",
    "                                               \"math_score\" : \"Average Math Score\"\n",
    "                                               })\n",
    "\n",
    "math_summary_df"
   ]
  },
  {
   "cell_type": "markdown",
   "id": "b52b0c14",
   "metadata": {},
   "source": [
    "## Reading Scores By Grade Analysis"
   ]
  },
  {
   "cell_type": "code",
   "execution_count": null,
   "id": "ac569cfc",
   "metadata": {},
   "outputs": [],
   "source": [
    "#creating reading dataframe\n",
    "grade_reading_df = complete_school_df.loc[:, [\"grade\", \"reading_score\"]]\n",
    "\n",
    "#view dataframe\n",
    "#grade_reading_df.head()"
   ]
  },
  {
   "cell_type": "code",
   "execution_count": null,
   "id": "dec3f60a",
   "metadata": {},
   "outputs": [],
   "source": [
    "#group reading scores by grade\n",
    "grouped_grade_read_df = grade_reading_df.groupby([\"grade\"])\n",
    "\n",
    "reading_summary_df = round(grouped_grade_read_df.mean(),2)\n",
    "\n",
    "#view dataframe\n",
    "#reading_summary_df"
   ]
  },
  {
   "cell_type": "markdown",
   "id": "e277db96",
   "metadata": {},
   "source": [
    "## Reading Scores By Grade Summary"
   ]
  },
  {
   "cell_type": "code",
   "execution_count": null,
   "id": "ea915f78",
   "metadata": {},
   "outputs": [],
   "source": [
    "reading_summary_2= reading_summary_df.rename(columns=\n",
    "                                              {\"grade\" : \"Grade\",\n",
    "                                               \"reading_score\" : \"Average Reading Score\"\n",
    "                                               })\n",
    "\n",
    "reading_summary_2"
   ]
  },
  {
   "cell_type": "markdown",
   "id": "d2f588c9",
   "metadata": {},
   "source": [
    "## Scores By School Spending Analysis"
   ]
  },
  {
   "cell_type": "code",
   "execution_count": null,
   "id": "5fed71d6",
   "metadata": {},
   "outputs": [],
   "source": [
    "#creating data frame for school spending\n",
    "school_spending_df = grouped_school_df3.loc[:, [\"Average Math Score\", \"Average Reading Score\", \n",
    "                                                \"% Passing Math\", \"% Passing Reading\",\n",
    "                                                \"% Overall Passing\", \"Per Student Budget\"]]\n",
    "#view dataframe\n",
    "#school_spending_df.head()\n"
   ]
  },
  {
   "cell_type": "code",
   "execution_count": null,
   "id": "31b4d092",
   "metadata": {},
   "outputs": [],
   "source": [
    "#bin for school spending\n",
    "spending_bins = [0, 585, 630, 645, 680]\n",
    "\n",
    "#names for the bins\n",
    "budget_labels = [\"<584\", \"585-630\", \"631-645\", \"646-680\"]\n",
    "\n",
    "school_spending_df[\"Per Student Budget\"] = pd.cut(school_spending_df[\"Per Student Budget\"],\n",
    "                                              bins= spending_bins, labels=budget_labels, include_lowest=True)\n",
    "\n",
    "#view dataframe\n",
    "#school_spending_df\n"
   ]
  },
  {
   "cell_type": "code",
   "execution_count": null,
   "id": "033a5e1d",
   "metadata": {},
   "outputs": [],
   "source": [
    "school_spending_df2 = school_spending_df.groupby([\"Per Student Budget\"])\n",
    "\n",
    "school_spending_summary_df = round(school_spending_df2.mean(),2)\n",
    "\n",
    "#view dataframe\n",
    "#school_spending_summary_df"
   ]
  },
  {
   "cell_type": "markdown",
   "id": "1eeedb4f",
   "metadata": {},
   "source": [
    "## Scores By School Spending Summary"
   ]
  },
  {
   "cell_type": "code",
   "execution_count": null,
   "id": "66dc071a",
   "metadata": {},
   "outputs": [],
   "source": [
    "#applying appropriate formatting to summary table\n",
    "school_spending_summary_df[\"% Passing Math\"] = school_spending_summary_df[\"% Passing Math\"].astype(float).map(\"{:,.2f}%\".format)\n",
    "school_spending_summary_df[\"% Passing Reading\"] = school_spending_summary_df[\"% Passing Reading\"].astype(float).map(\"{:,.2f}%\".format)\n",
    "school_spending_summary_df[\"% Overall Passing\"] = school_spending_summary_df[\"% Overall Passing\"].astype(float).map(\"{:,.2f}%\".format)\n",
    "\n",
    "school_spending_summary_df"
   ]
  },
  {
   "cell_type": "markdown",
   "id": "c016e729",
   "metadata": {},
   "source": [
    "## Scores By School Size Analysis"
   ]
  },
  {
   "cell_type": "code",
   "execution_count": null,
   "id": "f4d14580",
   "metadata": {},
   "outputs": [],
   "source": [
    "school_size_df = pd.merge(grouped_school_df2, complete_school_df, how=\"left\", on=[\"Student ID\", \"Student ID\"])\n",
    "\n",
    "#view dataframe\n",
    "#school_size_df.head()"
   ]
  },
  {
   "cell_type": "code",
   "execution_count": null,
   "id": "3d6364dc",
   "metadata": {},
   "outputs": [],
   "source": [
    "school_size_df2 = school_size_df.loc[:, [\"math_score_x\", \"reading_score_x\", \n",
    "                                                \"% Passing Math\", \"% Passing Reading\",\n",
    "                                                \"% Overall Passing\", \"size\"]]\n",
    "#view dataframe\n",
    "#school_size_df2.head()"
   ]
  },
  {
   "cell_type": "code",
   "execution_count": null,
   "id": "7f66c28d",
   "metadata": {},
   "outputs": [],
   "source": [
    "#bin in sizes school sizes small, medium, and large\n",
    "size_bins = [0, 1000, 2000, 3000]\n",
    "\n",
    "#labels for the size bins\n",
    "size_labels = [\"Small (<1000)\", \"Medium (1000-1999)\", \"Large (2000-5000)\"]\n",
    "\n",
    "school_size_df2[\"size\"] = pd.cut(school_size_df2[\"size\"], \n",
    "                                              bins= size_bins, labels=size_labels, include_lowest=True)\n",
    "\n",
    "#view dataframe\n",
    "#school_size_df2"
   ]
  },
  {
   "cell_type": "code",
   "execution_count": null,
   "id": "5e88a2c6",
   "metadata": {},
   "outputs": [],
   "source": [
    "#renaming columns\n",
    "school_size_df3= school_size_df2.rename(columns=\n",
    "                                              {\"math_score_x\" : \"Average Math Score\",\n",
    "                                               \"reading_score_x\" : \"Average Reading Score\",\n",
    "                                               \"% Passing Math\" : \"% Passing Math\",\n",
    "                                               \"% Passing Reading\" : \"% Passing Reading\",\n",
    "                                               \"% Overall Passing\" : \"% Overall Passing\",\n",
    "                                               \"size\" :\"School Size\"\n",
    "                                               })\n",
    "\n",
    "#view dataframe\n",
    "#school_size_df3"
   ]
  },
  {
   "cell_type": "code",
   "execution_count": null,
   "id": "e6a8f787",
   "metadata": {},
   "outputs": [],
   "source": [
    "school_size_df4 = school_size_df3.groupby([\"School Size\"])\n",
    "\n",
    "school_size_summary_df = round(school_size_df4.mean(),2)\n",
    "\n",
    "#view dataframe\n",
    "#school_size_summary_df\n"
   ]
  },
  {
   "cell_type": "markdown",
   "id": "77c61e78",
   "metadata": {},
   "source": [
    "## Scores By School Size Summary"
   ]
  },
  {
   "cell_type": "code",
   "execution_count": null,
   "id": "51c71779",
   "metadata": {},
   "outputs": [],
   "source": [
    "#applying appropriate formatting to summary table\n",
    "school_size_summary_df[\"% Passing Math\"] = school_size_summary_df[\"% Passing Math\"].astype(float).map(\"{:,.2f}%\".format)\n",
    "school_size_summary_df[\"% Passing Reading\"] = school_size_summary_df[\"% Passing Reading\"].astype(float).map(\"{:,.2f}%\".format)\n",
    "school_size_summary_df[\"% Overall Passing\"] = school_size_summary_df[\"% Overall Passing\"].astype(float).map(\"{:,.2f}%\".format)\n",
    "\n",
    "school_size_summary_df"
   ]
  },
  {
   "cell_type": "markdown",
   "id": "4492dbfd",
   "metadata": {},
   "source": [
    "### Scores by School Type Analysis"
   ]
  },
  {
   "cell_type": "code",
   "execution_count": null,
   "id": "e33a24d5",
   "metadata": {},
   "outputs": [],
   "source": [
    "school_type_df = grouped_school_df3.loc[:, [\"Average Math Score\", \"Average Reading Score\", \n",
    "                                                \"% Passing Math\", \"% Passing Reading\",\n",
    "                                                \"% Overall Passing\", \"School Type\"]]\n",
    "#view dataframe\n",
    "#school_type_df.head()"
   ]
  },
  {
   "cell_type": "code",
   "execution_count": null,
   "id": "81099cd7",
   "metadata": {},
   "outputs": [],
   "source": [
    "school_type_df2 = school_type_df.groupby([\"School Type\"])\n",
    "\n",
    "school_type_summary_df = round(school_type_df2.mean(),2)\n",
    "\n",
    "#view dataframe\n",
    "#school_type_summary_df"
   ]
  },
  {
   "cell_type": "markdown",
   "id": "908fc2b4",
   "metadata": {},
   "source": [
    "### Scores by School Type Summary"
   ]
  },
  {
   "cell_type": "code",
   "execution_count": null,
   "id": "517f7136",
   "metadata": {},
   "outputs": [],
   "source": [
    "#applying appropriate formatting to summary table\n",
    "school_type_summary_df[\"% Passing Math\"] = school_type_summary_df[\"% Passing Math\"].astype(float).map(\"{:,.2f}%\".format)\n",
    "school_type_summary_df[\"% Passing Reading\"] = school_type_summary_df[\"% Passing Reading\"].astype(float).map(\"{:,.2f}%\".format)\n",
    "school_type_summary_df[\"% Overall Passing\"] = school_type_summary_df[\"% Overall Passing\"].astype(float).map(\"{:,.2f}%\".format)\n",
    "\n",
    "school_type_summary_df"
   ]
  },
  {
   "cell_type": "code",
   "execution_count": null,
   "id": "44147066",
   "metadata": {},
   "outputs": [],
   "source": []
  }
 ],
 "metadata": {
  "kernelspec": {
   "display_name": "pythondata",
   "language": "python",
   "name": "pythondata"
  },
  "language_info": {
   "codemirror_mode": {
    "name": "ipython",
    "version": 3
   },
   "file_extension": ".py",
   "mimetype": "text/x-python",
   "name": "python",
   "nbconvert_exporter": "python",
   "pygments_lexer": "ipython3",
   "version": "3.8.8"
  }
 },
 "nbformat": 4,
 "nbformat_minor": 5
}
